{
 "cells": [
  {
   "cell_type": "code",
   "execution_count": null,
   "metadata": {
    "collapsed": true
   },
   "outputs": [],
   "source": [
    "import odbc\n",
    "import pandas as pd\n",
    "from src.api import ISteamApps\n",
    "\n",
    "def __db_get_data_from_src_table(src_table='applist'):\n",
    "    sql = 'select appid, name from oasis.' + str(src_table)\n",
    "    connect = odbc.odbc('oasis')\n",
    "    db = connect.cursor()\n",
    "    db.execute(sql)\n",
    "    data = db.fetchall()\n",
    "    return data\n",
    "\n",
    "\n",
    "if __name__ == \"__main__\":\n",
    "    # fetch data\n",
    "    old_applist = __db_get_data_from_src_table('applist')\n",
    "    new_applist = ISteamApps.GetAppList.api_get_app_list()\n",
    "\n",
    "    #\n",
    "    old_data = pd.DataFrame(columns=['appid', 'name'])\n",
    "    for app in old_applist:\n",
    "        old_data = old_data.append([int(app[0]), str(app[1])])\n",
    "\n",
    "    print(old_data)\n"
   ]
  }
 ],
 "metadata": {
  "kernelspec": {
   "display_name": "Python 2",
   "language": "python",
   "name": "python2"
  },
  "language_info": {
   "codemirror_mode": {
    "name": "ipython",
    "version": 2
   },
   "file_extension": ".py",
   "mimetype": "text/x-python",
   "name": "python",
   "nbconvert_exporter": "python",
   "pygments_lexer": "ipython2",
   "version": "2.7.6"
  }
 },
 "nbformat": 4,
 "nbformat_minor": 0
}
